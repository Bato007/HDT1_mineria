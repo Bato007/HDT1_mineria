{
 "cells": [
  {
   "cell_type": "markdown",
   "metadata": {},
   "source": [
    "# PREGUNTA 1 - DESCRIPCION DE DATOS"
   ]
  },
  {
   "cell_type": "code",
   "execution_count": 3,
   "metadata": {},
   "outputs": [
    {
     "data": {
      "text/html": [
       "<div>\n",
       "<style scoped>\n",
       "    .dataframe tbody tr th:only-of-type {\n",
       "        vertical-align: middle;\n",
       "    }\n",
       "\n",
       "    .dataframe tbody tr th {\n",
       "        vertical-align: top;\n",
       "    }\n",
       "\n",
       "    .dataframe thead th {\n",
       "        text-align: right;\n",
       "    }\n",
       "</style>\n",
       "<table border=\"1\" class=\"dataframe\">\n",
       "  <thead>\n",
       "    <tr style=\"text-align: right;\">\n",
       "      <th></th>\n",
       "      <th>id</th>\n",
       "      <th>budget</th>\n",
       "      <th>revenue</th>\n",
       "      <th>runtime</th>\n",
       "      <th>popularity</th>\n",
       "      <th>voteAvg</th>\n",
       "      <th>voteCount</th>\n",
       "      <th>genresAmount</th>\n",
       "      <th>productionCoAmount</th>\n",
       "      <th>productionCountriesAmount</th>\n",
       "      <th>actorsAmount</th>\n",
       "    </tr>\n",
       "  </thead>\n",
       "  <tbody>\n",
       "    <tr>\n",
       "      <th>count</th>\n",
       "      <td>10000.000000</td>\n",
       "      <td>1.000000e+04</td>\n",
       "      <td>1.000000e+04</td>\n",
       "      <td>10000.000000</td>\n",
       "      <td>10000.000000</td>\n",
       "      <td>10000.000000</td>\n",
       "      <td>10000.000000</td>\n",
       "      <td>10000.000000</td>\n",
       "      <td>10000.000000</td>\n",
       "      <td>10000.000000</td>\n",
       "      <td>10000.000000</td>\n",
       "    </tr>\n",
       "    <tr>\n",
       "      <th>mean</th>\n",
       "      <td>249876.829300</td>\n",
       "      <td>1.855163e+07</td>\n",
       "      <td>5.673793e+07</td>\n",
       "      <td>100.268100</td>\n",
       "      <td>51.393907</td>\n",
       "      <td>6.483490</td>\n",
       "      <td>1342.381800</td>\n",
       "      <td>2.596500</td>\n",
       "      <td>3.171400</td>\n",
       "      <td>1.751000</td>\n",
       "      <td>2147.666600</td>\n",
       "    </tr>\n",
       "    <tr>\n",
       "      <th>std</th>\n",
       "      <td>257380.109004</td>\n",
       "      <td>3.662669e+07</td>\n",
       "      <td>1.495854e+08</td>\n",
       "      <td>27.777829</td>\n",
       "      <td>216.729552</td>\n",
       "      <td>0.984274</td>\n",
       "      <td>2564.196637</td>\n",
       "      <td>1.154565</td>\n",
       "      <td>2.539738</td>\n",
       "      <td>3.012093</td>\n",
       "      <td>37200.075802</td>\n",
       "    </tr>\n",
       "    <tr>\n",
       "      <th>min</th>\n",
       "      <td>5.000000</td>\n",
       "      <td>0.000000e+00</td>\n",
       "      <td>0.000000e+00</td>\n",
       "      <td>0.000000</td>\n",
       "      <td>4.258000</td>\n",
       "      <td>1.300000</td>\n",
       "      <td>1.000000</td>\n",
       "      <td>0.000000</td>\n",
       "      <td>0.000000</td>\n",
       "      <td>0.000000</td>\n",
       "      <td>0.000000</td>\n",
       "    </tr>\n",
       "    <tr>\n",
       "      <th>25%</th>\n",
       "      <td>12286.500000</td>\n",
       "      <td>0.000000e+00</td>\n",
       "      <td>0.000000e+00</td>\n",
       "      <td>90.000000</td>\n",
       "      <td>14.577750</td>\n",
       "      <td>5.900000</td>\n",
       "      <td>120.000000</td>\n",
       "      <td>2.000000</td>\n",
       "      <td>2.000000</td>\n",
       "      <td>1.000000</td>\n",
       "      <td>13.000000</td>\n",
       "    </tr>\n",
       "    <tr>\n",
       "      <th>50%</th>\n",
       "      <td>152558.000000</td>\n",
       "      <td>5.000000e+05</td>\n",
       "      <td>1.631245e+05</td>\n",
       "      <td>100.000000</td>\n",
       "      <td>21.905500</td>\n",
       "      <td>6.500000</td>\n",
       "      <td>415.000000</td>\n",
       "      <td>3.000000</td>\n",
       "      <td>3.000000</td>\n",
       "      <td>1.000000</td>\n",
       "      <td>21.000000</td>\n",
       "    </tr>\n",
       "    <tr>\n",
       "      <th>75%</th>\n",
       "      <td>452021.750000</td>\n",
       "      <td>2.000000e+07</td>\n",
       "      <td>4.479661e+07</td>\n",
       "      <td>113.000000</td>\n",
       "      <td>40.654000</td>\n",
       "      <td>7.200000</td>\n",
       "      <td>1316.000000</td>\n",
       "      <td>3.000000</td>\n",
       "      <td>4.000000</td>\n",
       "      <td>2.000000</td>\n",
       "      <td>36.000000</td>\n",
       "    </tr>\n",
       "    <tr>\n",
       "      <th>max</th>\n",
       "      <td>922260.000000</td>\n",
       "      <td>3.800000e+08</td>\n",
       "      <td>2.847246e+09</td>\n",
       "      <td>750.000000</td>\n",
       "      <td>11474.647000</td>\n",
       "      <td>10.000000</td>\n",
       "      <td>30788.000000</td>\n",
       "      <td>16.000000</td>\n",
       "      <td>89.000000</td>\n",
       "      <td>155.000000</td>\n",
       "      <td>919590.000000</td>\n",
       "    </tr>\n",
       "  </tbody>\n",
       "</table>\n",
       "</div>"
      ],
      "text/plain": [
       "                  id        budget       revenue       runtime    popularity  \\\n",
       "count   10000.000000  1.000000e+04  1.000000e+04  10000.000000  10000.000000   \n",
       "mean   249876.829300  1.855163e+07  5.673793e+07    100.268100     51.393907   \n",
       "std    257380.109004  3.662669e+07  1.495854e+08     27.777829    216.729552   \n",
       "min         5.000000  0.000000e+00  0.000000e+00      0.000000      4.258000   \n",
       "25%     12286.500000  0.000000e+00  0.000000e+00     90.000000     14.577750   \n",
       "50%    152558.000000  5.000000e+05  1.631245e+05    100.000000     21.905500   \n",
       "75%    452021.750000  2.000000e+07  4.479661e+07    113.000000     40.654000   \n",
       "max    922260.000000  3.800000e+08  2.847246e+09    750.000000  11474.647000   \n",
       "\n",
       "            voteAvg     voteCount  genresAmount  productionCoAmount  \\\n",
       "count  10000.000000  10000.000000  10000.000000        10000.000000   \n",
       "mean       6.483490   1342.381800      2.596500            3.171400   \n",
       "std        0.984274   2564.196637      1.154565            2.539738   \n",
       "min        1.300000      1.000000      0.000000            0.000000   \n",
       "25%        5.900000    120.000000      2.000000            2.000000   \n",
       "50%        6.500000    415.000000      3.000000            3.000000   \n",
       "75%        7.200000   1316.000000      3.000000            4.000000   \n",
       "max       10.000000  30788.000000     16.000000           89.000000   \n",
       "\n",
       "       productionCountriesAmount   actorsAmount  \n",
       "count               10000.000000   10000.000000  \n",
       "mean                    1.751000    2147.666600  \n",
       "std                     3.012093   37200.075802  \n",
       "min                     0.000000       0.000000  \n",
       "25%                     1.000000      13.000000  \n",
       "50%                     1.000000      21.000000  \n",
       "75%                     2.000000      36.000000  \n",
       "max                   155.000000  919590.000000  "
      ]
     },
     "execution_count": 3,
     "metadata": {},
     "output_type": "execute_result"
    }
   ],
   "source": [
    "import pandas as pd\n",
    "import matplotlib.pyplot as plt\n",
    "import statistics as stats\n",
    "\n",
    "movies = pd.read_csv('movies.csv', encoding = \"ISO-8859-1\")\n",
    "\n",
    "# PREGUNTA 1\n",
    "movies.describe()"
   ]
  },
  {
   "cell_type": "markdown",
   "metadata": {},
   "source": [
    "# PREGUNTA 1"
   ]
  },
  {
   "cell_type": "code",
   "execution_count": 7,
   "metadata": {},
   "outputs": [
    {
     "data": {
      "text/plain": [
       "<AxesSubplot:xlabel='originalTitle'>"
      ]
     },
     "execution_count": 7,
     "metadata": {},
     "output_type": "execute_result"
    },
    {
     "data": {
      "image/png": "[encoded data removed]",
      "text/plain": [
       "<Figure size 432x288 with 1 Axes>"
      ]
     },
     "metadata": {
      "needs_background": "light"
     },
     "output_type": "display_data"
    }
   ],
   "source": [
    "import pandas as pd\n",
    "import matplotlib.pyplot as plt\n",
    "import statistics as stats\n",
    "\n",
    "movies = pd.read_csv('movies.csv', encoding = \"ISO-8859-1\")\n",
    "\n",
    "# PREGUNTA 1\n",
    "# Top 10 budget\n",
    "top10budget = movies.sort_values(by=['budget'], ascending=False)[:10]\n",
    "top10budget.plot(kind='bar', x='originalTitle', y='budget', rot=90)"
   ]
  },
  {
   "cell_type": "markdown",
   "metadata": {},
   "source": [
    "# PREGUNTA 4"
   ]
  },
  {
   "cell_type": "code",
   "execution_count": 10,
   "metadata": {},
   "outputs": [
    {
     "data": {
      "text/plain": [
       "<AxesSubplot:xlabel='title'>"
      ]
     },
     "execution_count": 10,
     "metadata": {},
     "output_type": "execute_result"
    },
    {
     "data": {
      "image/png": "[encoded data removed]",
      "text/plain": [
       "<Figure size 432x288 with 1 Axes>"
      ]
     },
     "metadata": {
      "needs_background": "light"
     },
     "output_type": "display_data"
    }
   ],
   "source": [
    "import pandas as pd\n",
    "import matplotlib.pyplot as plt\n",
    "import statistics as stats\n",
    "\n",
    "movies = pd.read_csv('movies.csv', encoding = \"ISO-8859-1\")\n",
    "\n",
    "# PREGUNTA 4\n",
    "# Worst votes average\n",
    "worstVotesAvg = movies.sort_values(by=['voteAvg'], ascending=True)[:5]\n",
    "worstVotesAvg.plot(kind='line', x='title', y='voteAvg', rot=90)"
   ]
  },
  {
   "cell_type": "markdown",
   "metadata": {},
   "source": [
    "# PREGUNTA 7"
   ]
  },
  {
   "cell_type": "code",
   "execution_count": 12,
   "metadata": {},
   "outputs": [
    {
     "name": "stdout",
     "output_type": "stream",
     "text": [
      "                  revenue_avg\n",
      "genre                        \n",
      "Adventure        2.297281e+08\n",
      "Fantasy          1.879408e+08\n",
      "Science Fiction  1.797732e+08\n",
      "Family           1.752515e+08\n",
      "Animation        1.685339e+08\n",
      "Action           1.633810e+08\n",
      "nan              1.579086e+08\n",
      "Comedy           1.091257e+08\n",
      "War              1.019692e+08\n",
      "Romance          8.752667e+07\n",
      "Thriller         8.529004e+07\n",
      "Music            8.270567e+07\n",
      "Crime            7.837847e+07\n",
      "Mystery          7.755842e+07\n",
      "History          7.467157e+07\n",
      "Drama            7.338125e+07\n",
      "Western          6.955064e+07\n",
      "Horror           5.200466e+07\n",
      "Documentary      4.154502e+07\n",
      "TV Movie         3.726530e+06\n"
     ]
    }
   ],
   "source": [
    "import pandas as pd\n",
    "import matplotlib.pyplot as plt\n",
    "import statistics as stats\n",
    "\n",
    "movies = pd.read_csv('movies.csv', encoding = \"ISO-8859-1\")\n",
    "\n",
    "df = pd.DataFrame()\n",
    "# Top 5 genres with more revenue\n",
    "genresSplit = movies.loc[:, ['genres', 'revenue']]\n",
    "# Cleaning the genres\n",
    "for index, row in genresSplit.iterrows():\n",
    "    genresSplit = str(row['genres']).split('|')\n",
    "    for genre2 in genresSplit:\n",
    "        if (row['revenue'] > 0):\n",
    "            # Add genre with respective revenue\n",
    "            df2 = {'genre': str(genre2), 'revenue': float(row['revenue'])}\n",
    "            df = df.append(df2, ignore_index = True)\n",
    "\n",
    "# Group by genre and get revenue average\n",
    "df =  df.groupby([\"genre\"]).agg(revenue_avg = ('revenue', 'mean'))\n",
    "df = df.sort_values(by=[\"revenue_avg\"], ascending=False)\n",
    "print(df)"
   ]
  },
  {
   "cell_type": "markdown",
   "metadata": {},
   "source": [
    "# PREGUNTA 10"
   ]
  },
  {
   "cell_type": "code",
   "execution_count": 14,
   "metadata": {},
   "outputs": [
    {
     "name": "stdout",
     "output_type": "stream",
     "text": [
      "                       vote_avg\n",
      "director                       \n",
      "Christopher Nolan  16960.200000\n",
      "Joss Whedon        16074.000000\n",
      "Tim Miller         15028.500000\n",
      "Lee Unkrich        13643.000000\n",
      "Anthony Russo      13455.333333\n",
      "Joe Russo          13455.333333\n",
      "David Yates        13438.714286\n",
      "Frank Darabont     12588.666667\n",
      "Richard Marquand   12296.000000\n",
      "Ryan Coogler       12159.000000\n",
      "Andrew Stanton     11537.250000\n",
      "Pete Docter        11457.000000\n",
      "Robert Stromberg   11402.000000\n",
      "Mark Andrews       11242.000000\n",
      "James Cameron      11147.428571\n",
      "Chad Stahelski     10896.333333\n",
      "Rodney Rothman     10714.000000\n",
      "Bob Persichetti    10714.000000\n",
      "Quentin Tarantino  10070.000000\n",
      "Damien Chazelle    10029.666667\n"
     ]
    }
   ],
   "source": [
    "\n",
    "import pandas as pd\n",
    "import matplotlib.pyplot as plt\n",
    "import statistics as stats\n",
    "\n",
    "\n",
    "\n",
    "df = pd.DataFrame()\n",
    "# Top 20 directors with best vote avg\n",
    "directorSplit = movies.loc[:, ['director', 'voteCount']]\n",
    "\n",
    "# Cleaning the directors\n",
    "for index, row in directorSplit.iterrows():\n",
    "    directorSplit = str(row['director']).split('|')\n",
    "    for director in directorSplit:\n",
    "        if (row['voteCount'] > 0):\n",
    "            # Add director with respective votecount\n",
    "            df2 = {'director': str(director), 'voteCount': float(row['voteCount'])}\n",
    "            df = df.append(df2, ignore_index = True)\n",
    "\n",
    "# Group by director and mean votecount\n",
    "df =  df.groupby([\"director\"]).agg(vote_avg = ('voteCount', 'mean'))\n",
    "df = df.sort_values(by=[\"vote_avg\"], ascending=False)\n",
    "print(df[:20])"
   ]
  },
  {
   "cell_type": "markdown",
   "metadata": {},
   "source": [
    "# PREGUNTA 13"
   ]
  },
  {
   "cell_type": "code",
   "execution_count": 17,
   "metadata": {},
   "outputs": [
    {
     "name": "stdout",
     "output_type": "stream",
     "text": [
      "     month       revenue                         title\n",
      "3210    12  2.847246e+09                        Avatar\n",
      "5952    04  2.797801e+09             Avengers: Endgame\n",
      "307     11  2.187464e+09                       Titanic\n",
      "4947    12  2.068224e+09  Star Wars: The Force Awakens\n",
      "5953    04  2.046240e+09        Avengers: Infinity War\n",
      "...    ...           ...                           ...\n",
      "2826    08  0.000000e+00        The Butterfly Effect 2\n",
      "6411    07  0.000000e+00                      Stratton\n",
      "6409    07  0.000000e+00                        6 Days\n",
      "6408    12  0.000000e+00              The Ridiculous 6\n",
      "7163    10  0.000000e+00                 Until Forever\n",
      "\n",
      "[10000 rows x 3 columns]\n"
     ]
    }
   ],
   "source": [
    "\n",
    "import pandas as pd\n",
    "import matplotlib.pyplot as plt\n",
    "import statistics as stats\n",
    "\n",
    "df = pd.DataFrame()\n",
    "# Top months\n",
    "monthsSplit = movies.loc[:, ['releaseDate', 'revenue', 'title']]\n",
    "\n",
    "for index, row in monthsSplit.iterrows():\n",
    "    monthsSplit = str(row['releaseDate']).split('-')[1]\n",
    "\n",
    "    df2 = {'month': str(monthsSplit), 'revenue': float(row['revenue']), 'title': str(row['title'])}\n",
    "    df = df.append(df2, ignore_index = True)\n",
    "\n",
    "df = df.sort_values(by=[\"revenue\"], ascending=False)\n",
    "\n",
    "print(df)"
   ]
  },
  {
   "cell_type": "code",
   "execution_count": 18,
   "metadata": {},
   "outputs": [
    {
     "name": "stdout",
     "output_type": "stream",
     "text": [
      "       movies_avg\n",
      "month            \n",
      "09           1079\n",
      "10           1068\n",
      "12            935\n",
      "08            913\n",
      "06            819\n",
      "03            815\n",
      "07            812\n",
      "11            807\n",
      "02            706\n",
      "05            698\n",
      "04            696\n",
      "01            652\n"
     ]
    }
   ],
   "source": [
    "\n",
    "import pandas as pd\n",
    "import matplotlib.pyplot as plt\n",
    "import statistics as stats\n",
    "\n",
    "df = pd.DataFrame()\n",
    "# Top months\n",
    "monthsSplit = movies.loc[:, ['releaseDate', 'revenue', 'title']]\n",
    "\n",
    "for index, row in monthsSplit.iterrows():\n",
    "    monthsSplit = str(row['releaseDate']).split('-')[1]\n",
    "\n",
    "    df2 = {'month': str(monthsSplit), 'revenue': float(row['revenue']), 'title': str(row['title'])}\n",
    "    df = df.append(df2, ignore_index = True)\n",
    "\n",
    "df = df.groupby(['month']).agg(movies_avg = ('month', 'count'))\n",
    "df = df.sort_values(by=[\"movies_avg\"], ascending=False)\n",
    "\n",
    "print(df)"
   ]
  },
  {
   "cell_type": "markdown",
   "metadata": {},
   "source": [
    "# PREGUNTA EXTRA 2"
   ]
  },
  {
   "cell_type": "code",
   "execution_count": 19,
   "metadata": {},
   "outputs": [
    {
     "name": "stdout",
     "output_type": "stream",
     "text": [
      "                             title actorsPopularity       revenue       desv\n",
      "3210                        Avatar         6.553297  2.847246e+09   7.442265\n",
      "5952             Avengers: Endgame        15.050437  2.797801e+09  15.912077\n",
      "307                        Titanic         3.272284  2.187464e+09   5.021446\n",
      "4947  Star Wars: The Force Awakens         4.106644  2.068224e+09   6.414513\n",
      "5953        Avengers: Infinity War          17.2132  2.046240e+09  18.310904\n",
      "4914                Jurassic World         6.410438  1.671713e+09   7.340869\n",
      "7134                 The Lion King           6.0732  1.667635e+09   3.571005\n",
      "9049       Spider-Man: No Way Home         13.91585  1.631853e+09  20.549520\n",
      "3397                  The Avengers         5.282027  1.518816e+09  10.467364\n",
      "5087                     Furious 7        10.098561  1.515048e+09  10.850658\n"
     ]
    }
   ],
   "source": [
    "\n",
    "import pandas as pd\n",
    "import matplotlib.pyplot as plt\n",
    "import statistics as stats\n",
    "\n",
    "\n",
    "\n",
    "df = pd.DataFrame()\n",
    "# Top 5 genres with more revenue\n",
    "df = movies.loc[:, ['title', 'actorsPopularity', 'revenue']]\n",
    "# Cleaning the genres\n",
    "for index, row in df.iterrows():\n",
    "    genresSplit = str(row['actorsPopularity']).split('|')\n",
    "    avg = 0\n",
    "    desvList = []\n",
    "    try:\n",
    "        for genre2 in genresSplit:\n",
    "            if (row['revenue'] > 0):\n",
    "                avg += float(genre2)\n",
    "                desvList.append(float(genre2))\n",
    "        avg = avg / len(genresSplit)\n",
    "        df.loc[index, 'actorsPopularity'] = avg\n",
    "        df.loc[index, 'desv'] = stats.pstdev(desvList)\n",
    "    except:\n",
    "        df.loc[index, 'actorsPopularity'] = 0\n",
    "        df.loc[index, 'desv'] = 0\n",
    "\n",
    "\n",
    "df = df.sort_values(by=[\"revenue\"], ascending=False)\n",
    "\n",
    "print(df[:10])"
   ]
  },
  {
   "cell_type": "markdown",
   "metadata": {},
   "source": [
    "# PREGUNTA EXTRA 1"
   ]
  },
  {
   "cell_type": "code",
   "execution_count": 20,
   "metadata": {},
   "outputs": [
    {
     "data": {
      "text/plain": [
       "<AxesSubplot:xlabel='runtime', ylabel='voteAvg'>"
      ]
     },
     "execution_count": 20,
     "metadata": {},
     "output_type": "execute_result"
    },
    {
     "data": {
      "image/png": "[encoded data removed]",
      "text/plain": [
       "<Figure size 432x288 with 1 Axes>"
      ]
     },
     "metadata": {
      "needs_background": "light"
     },
     "output_type": "display_data"
    }
   ],
   "source": [
    "import pandas as pd\n",
    "import matplotlib.pyplot as plt\n",
    "import statistics as stats\n",
    "\n",
    "movies = pd.read_csv('movies.csv', encoding = \"ISO-8859-1\")\n",
    "\n",
    "\n",
    "# Worst votes average\n",
    "worstVotesAvg = movies.sort_values(by=['voteAvg'], ascending=False)\n",
    "worstVotesAvg.plot.scatter(x='runtime', y='voteAvg', rot=90)"
   ]
  }
 ],
 "metadata": {
  "interpreter": {
   "hash": "468f25ad0239460415b7e6b7483d5c8f7213894121f6fb96c4cb6ef93fffe534"
  },
  "kernelspec": {
   "display_name": "Python 3.9.6 64-bit",
   "language": "python",
   "name": "python3"
  },
  "language_info": {
   "codemirror_mode": {
    "name": "ipython",
    "version": 3
   },
   "file_extension": ".py",
   "mimetype": "text/x-python",
   "name": "python",
   "nbconvert_exporter": "python",
   "pygments_lexer": "ipython3",
   "version": "3.9.6"
  },
  "orig_nbformat": 4
 },
 "nbformat": 4,
 "nbformat_minor": 2
}
